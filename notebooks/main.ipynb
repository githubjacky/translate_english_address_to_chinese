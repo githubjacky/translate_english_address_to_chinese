{
 "cells": [
  {
   "cell_type": "code",
   "execution_count": 1,
   "id": "6172955f-9028-4a53-a70b-6fc0df53292c",
   "metadata": {
    "execution": {
     "iopub.execute_input": "2024-01-30T16:53:02.539462Z",
     "iopub.status.busy": "2024-01-30T16:53:02.539332Z",
     "iopub.status.idle": "2024-01-30T16:53:02.544997Z",
     "shell.execute_reply": "2024-01-30T16:53:02.544352Z",
     "shell.execute_reply.started": "2024-01-30T16:53:02.539446Z"
    },
    "tags": []
   },
   "outputs": [],
   "source": [
    "import os, sys\n",
    "os.chdir('../')\n",
    "sys.path.append('./src')"
   ]
  },
  {
   "cell_type": "code",
   "execution_count": 2,
   "id": "1edfc0e9-e250-4ed4-b58e-0dd443db23fa",
   "metadata": {
    "execution": {
     "iopub.execute_input": "2024-01-30T16:53:03.108013Z",
     "iopub.status.busy": "2024-01-30T16:53:03.107110Z",
     "iopub.status.idle": "2024-01-30T16:53:09.621712Z",
     "shell.execute_reply": "2024-01-30T16:53:09.621043Z",
     "shell.execute_reply.started": "2024-01-30T16:53:03.107983Z"
    },
    "tags": []
   },
   "outputs": [],
   "source": [
    "from langchain.prompts import PromptTemplate\n",
    "from langchain_core.pydantic_v1 import BaseModel, Field\n",
    "\n",
    "from llm_research.model import Prompt\n",
    "from llm_research.model import OpenAILLM"
   ]
  },
  {
   "cell_type": "markdown",
   "id": "01a3edb3-0bd8-4b8b-bc21-9bf107eecdbb",
   "metadata": {},
   "source": [
    "## Preprocess"
   ]
  },
  {
   "cell_type": "code",
   "execution_count": 3,
   "id": "b046cd53-0ae2-4644-afd5-a21f0da35e9f",
   "metadata": {
    "execution": {
     "iopub.execute_input": "2024-01-30T16:07:20.732324Z",
     "iopub.status.busy": "2024-01-30T16:07:20.729738Z",
     "iopub.status.idle": "2024-01-30T16:07:20.966174Z",
     "shell.execute_reply": "2024-01-30T16:07:20.965378Z",
     "shell.execute_reply.started": "2024-01-30T16:07:20.732207Z"
    },
    "tags": []
   },
   "outputs": [],
   "source": [
    "from src.process import csv2jsonl, split_jsonl\n",
    "\n",
    "csv2jsonl('data/raw/address_traslate.csv', 'data/processed/address_translate.jsonl', write=True)\n",
    "split_jsonl('data/processed/address_translate.jsonl', n=100)"
   ]
  },
  {
   "cell_type": "markdown",
   "id": "493a1aa6-e0d3-408c-a9e7-ae0fd3007172",
   "metadata": {},
   "source": [
    "## Set up the prompt"
   ]
  },
  {
   "cell_type": "code",
   "execution_count": 2,
   "id": "a2aad759-4cdb-42c0-8f12-aad1ee0ffac3",
   "metadata": {
    "execution": {
     "iopub.execute_input": "2024-01-30T16:46:26.149218Z",
     "iopub.status.busy": "2024-01-30T16:46:26.148630Z",
     "iopub.status.idle": "2024-01-30T16:46:33.297778Z",
     "shell.execute_reply": "2024-01-30T16:46:33.297168Z",
     "shell.execute_reply.started": "2024-01-30T16:46:26.149198Z"
    },
    "tags": []
   },
   "outputs": [],
   "source": [
    "system_template = \"\"\"\\\n",
    "You are an experienced expert in translating English addresses to Traditional Chinese.\n",
    "Your task is to translate the English address to Traditional Chinese using Json format.\n",
    "\"Notice: Do not include the country and postal code in your response\".\\\n",
    "\"\"\"\n",
    "system_prompt_template = PromptTemplate.from_template(system_template)\n",
    "system_prompt_template.save('data/raw/prompt/system.json')\n",
    "\n",
    "\n",
    "human_template = \"\"\"\\\n",
    "{instructions}\n",
    "Translate the following address in Traditional Chinese:\n",
    "{owner_address}\n",
    "Output Instructions:\n",
    "{output_instructions}\n",
    "Besides, don't forget to escape a single quote in your response json string.\\\n",
    "\"\"\"\n",
    "human_prompt_template = PromptTemplate.from_template(human_template)\n",
    "human_prompt_template.save('data/raw/prompt/human.json')"
   ]
  },
  {
   "cell_type": "markdown",
   "id": "2e6427cc-a2b9-4b13-8f32-e773d03a05ec",
   "metadata": {
    "execution": {
     "iopub.execute_input": "2024-01-30T16:49:27.196137Z",
     "iopub.status.busy": "2024-01-30T16:49:27.194598Z",
     "iopub.status.idle": "2024-01-30T16:49:27.432090Z",
     "shell.execute_reply": "2024-01-30T16:49:27.431426Z",
     "shell.execute_reply.started": "2024-01-30T16:49:27.196073Z"
    },
    "tags": []
   },
   "source": [
    "## Setup the prompt, model and the output data class"
   ]
  },
  {
   "cell_type": "code",
   "execution_count": 3,
   "id": "709df24c-f352-4d0a-905b-12acf5486aa8",
   "metadata": {
    "execution": {
     "iopub.execute_input": "2024-01-30T16:53:09.623595Z",
     "iopub.status.busy": "2024-01-30T16:53:09.623093Z",
     "iopub.status.idle": "2024-01-30T16:53:09.687558Z",
     "shell.execute_reply": "2024-01-30T16:53:09.687042Z",
     "shell.execute_reply.started": "2024-01-30T16:53:09.623567Z"
    },
    "tags": []
   },
   "outputs": [],
   "source": [
    "class LLMResponse(BaseModel):\n",
    "    translated_address: str = Field(description=\"the translated address in Traditional Chinese\")\n",
    "\n",
    "\n",
    "prompt = Prompt(LLMResponse, 'data/raw/prompt/system.json', 'data/raw/prompt/human.json')\n",
    "model = OpenAILLM(model=\"gpt-4-1106-preview\", temperature=0., timeout=120, verbose=True)"
   ]
  },
  {
   "cell_type": "markdown",
   "id": "f7b53a9f-f464-4b2a-8395-d25ee50bb83a",
   "metadata": {},
   "source": [
    "## Query LLM"
   ]
  },
  {
   "cell_type": "code",
   "execution_count": 3,
   "id": "51023608-55ef-45d5-9976-e0a7252495e9",
   "metadata": {
    "execution": {
     "iopub.execute_input": "2024-01-30T16:14:29.753554Z",
     "iopub.status.busy": "2024-01-30T16:14:29.753080Z",
     "iopub.status.idle": "2024-01-30T16:24:26.408731Z",
     "shell.execute_reply": "2024-01-30T16:24:26.407299Z",
     "shell.execute_reply.started": "2024-01-30T16:14:29.753537Z"
    },
    "tags": []
   },
   "outputs": [
    {
     "name": "stderr",
     "output_type": "stream",
     "text": [
      "2024/01/30 16:14:29 INFO mlflow.tracking.fluent: Experiment with name 'test-100' does not exist. Creating a new experiment.\n",
      "100%|██████████████████████████████████████████| 100/100 [09:56<00:00,  5.96s/it]\n"
     ]
    }
   ],
   "source": [
    "model.init_request(experiment_name='test-100', run_name='gpt-4-1106-warmup')\n",
    "model.request_batch(\n",
    "    prompt,\n",
    "    'data/processed/test_100.jsonl',\n",
    "    'data/raw/fewshot_examples.jsonl'\n",
    ")\n",
    "model.end_request()"
   ]
  },
  {
   "cell_type": "code",
   "execution_count": null,
   "id": "128964ab-3503-4df1-bb91-20f7d935c751",
   "metadata": {},
   "outputs": [],
   "source": [
    "model = OpenAILLM(model=\"gpt-4-1106-preview\", temperature=0., timeout=120, verbose=True)\n",
    "model.init_request(experiment_name='test-100', run_name='gpt-4-1106-remained')\n",
    "model.request_batch(\n",
    "    prompt,\n",
    "    'data/processed/test_100_remained.jsonl',\n",
    "    'data/raw/fewshot_examples.jsonl'\n",
    ")\n",
    "model.end_request()"
   ]
  },
  {
   "cell_type": "markdown",
   "id": "0dd73501-986a-44a0-9a9f-21034b52725a",
   "metadata": {},
   "source": [
    "## Merge the result"
   ]
  },
  {
   "cell_type": "code",
   "execution_count": null,
   "id": "5003d58e-b3ca-4ee5-a14d-614136311430",
   "metadata": {},
   "outputs": [],
   "source": []
  }
 ],
 "metadata": {
  "kernelspec": {
   "display_name": "Poetry",
   "language": "python",
   "name": "poetry-kernel"
  },
  "language_info": {
   "codemirror_mode": {
    "name": "ipython",
    "version": 3
   },
   "file_extension": ".py",
   "mimetype": "text/x-python",
   "name": "python",
   "nbconvert_exporter": "python",
   "pygments_lexer": "ipython3",
   "version": "3.11.4"
  }
 },
 "nbformat": 4,
 "nbformat_minor": 5
}
